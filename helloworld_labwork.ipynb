{
 "cells": [
  {
   "cell_type": "code",
   "execution_count": 9,
   "id": "b85a499c-6d53-4ec8-9a9d-527d734edd04",
   "metadata": {},
   "outputs": [
    {
     "name": "stdout",
     "output_type": "stream",
     "text": [
      "Hello World\n"
     ]
    }
   ],
   "source": [
    "print(\"Hello World\")"
   ]
  },
  {
   "cell_type": "code",
   "execution_count": null,
   "id": "5be17344-51a6-4368-be17-3e3f700ed39d",
   "metadata": {},
   "outputs": [],
   "source": [
    "from  pynq.overlays.base import BaseOverlay\n",
    "import time\n",
    "base = BaseOverlay(\"base.bit\")"
   ]
  },
  {
   "cell_type": "code",
   "execution_count": null,
   "id": "2be01e94-f54e-491c-8e71-220432683fd4",
   "metadata": {},
   "outputs": [],
   "source": [
    "help(base)"
   ]
  },
  {
   "cell_type": "code",
   "execution_count": null,
   "id": "20170a2a-81a6-482b-9acb-19ed77b7e1dc",
   "metadata": {},
   "outputs": [],
   "source": [
    "led0 = base.leds[0]\n",
    "led0.on()\n",
    "time.sleep(2)\n",
    "led0.off()"
   ]
  },
  {
   "cell_type": "code",
   "execution_count": null,
   "id": "293e671b-61ac-4250-88ca-b2871eef0169",
   "metadata": {},
   "outputs": [],
   "source": [
    "from pynq.overlays.base import BaseOverlay\n",
    "import pynq.lib.rgbled as rgbled\n",
    "import time \n",
    "base = BaseOverlay(\"base.bit\")"
   ]
  },
  {
   "cell_type": "code",
   "execution_count": null,
   "id": "5d586aaa-9555-4970-94db-89d5d61d2c34",
   "metadata": {},
   "outputs": [],
   "source": [
    "help(rgbled)"
   ]
  },
  {
   "cell_type": "code",
   "execution_count": null,
   "id": "da36c5ac-b691-4e87-8f96-de01650c7316",
   "metadata": {},
   "outputs": [],
   "source": [
    "led4 = rgbled.RGBLED(4)\n",
    "led5 = rgbled.RGBLED(5)"
   ]
  },
  {
   "cell_type": "code",
   "execution_count": null,
   "id": "c5d4649c-64d9-4695-b006-8e660c9c2402",
   "metadata": {},
   "outputs": [],
   "source": [
    "led4.write(0x7)\n",
    "led5.write(0x4)"
   ]
  },
  {
   "cell_type": "code",
   "execution_count": null,
   "id": "1ed84830-b267-4c12-a57a-9a3b569d4829",
   "metadata": {},
   "outputs": [],
   "source": [
    "led4.write(0x0)\n",
    "led5.write(0x0)"
   ]
  }
 ],
 "metadata": {
  "kernelspec": {
   "display_name": "Python 3 (ipykernel)",
   "language": "python",
   "name": "python3"
  },
  "language_info": {
   "codemirror_mode": {
    "name": "ipython",
    "version": 3
   },
   "file_extension": ".py",
   "mimetype": "text/x-python",
   "name": "python",
   "nbconvert_exporter": "python",
   "pygments_lexer": "ipython3",
   "version": "3.12.7"
  }
 },
 "nbformat": 4,
 "nbformat_minor": 5
}
