{
 "cells": [
  {
   "cell_type": "markdown",
   "metadata": {},
   "source": [
    "# Importing some libraries"
   ]
  },
  {
   "cell_type": "code",
   "execution_count": null,
   "metadata": {},
   "outputs": [],
   "source": [
    "from pynq.overlays.base import BaseOverlay\n",
    "import pynq.lib.rgbled as rgbled \n",
    "import time"
   ]
  },
  {
   "cell_type": "markdown",
   "metadata": {},
   "source": [
    "# Programming the PL"
   ]
  },
  {
   "cell_type": "code",
   "execution_count": null,
   "metadata": {},
   "outputs": [],
   "source": [
    "base = BaseOverlay(\"base.bit\")"
   ]
  },
  {
   "cell_type": "markdown",
   "metadata": {},
   "source": [
    "# Defining buttons and LEDs"
   ]
  },
  {
   "cell_type": "code",
   "execution_count": null,
   "metadata": {},
   "outputs": [],
   "source": [
    "btns = base.btns_gpio\n",
    "led4 = rgbled.RGBLED(4)\n",
    "led5 = rgbled.RGBLED(5)"
   ]
  },
  {
   "cell_type": "markdown",
   "metadata": {},
   "source": [
    "# Using a loop to blink the LEDS and read from buttons"
   ]
  },
  {
   "cell_type": "code",
   "execution_count": null,
   "metadata": {},
   "outputs": [],
   "source": [
    "while True:\n",
    "    led4.write(0x1)\n",
    "    led5.write(0x7)\n",
    "    if btns.read() != 0:\n",
    "        break\n",
    "    time.sleep(0.1)\n",
    "    led4.write(0x0)\n",
    "    led5.write(0x0)\n",
    "    if btns.read() != 0:\n",
    "        break\n",
    "    time.sleep(0.05)\n",
    "    led4.write(0x1)\n",
    "    led5.write(0x7)\n",
    "    if btns.read() != 0:\n",
    "        break\n",
    "    time.sleep(0.1)\n",
    "    led4.write(0x0)\n",
    "    led5.write(0x0)\n",
    "    if btns.read() != 0:\n",
    "        break\n",
    "    time.sleep(0.05)\n",
    "    \n",
    "    led4.write(0x7)\n",
    "    led5.write(0x4)\n",
    "    if btns.read() != 0:\n",
    "        break\n",
    "    time.sleep(0.1)\n",
    "    led4.write(0x0)\n",
    "    led5.write(0x0)\n",
    "    if btns.read() != 0:\n",
    "        break\n",
    "    time.sleep(0.05)\n",
    "    led4.write(0x7)\n",
    "    led5.write(0x4)\n",
    "    if btns.read() != 0:\n",
    "        break\n",
    "    time.sleep(0.1)\n",
    "    led4.write(0x0)\n",
    "    led5.write(0x0)\n",
    "    if btns.read() != 0:\n",
    "        break\n",
    "    time.sleep(0.05)\n",
    "\n",
    "led4.write(0x0)\n",
    "led5.write(0x0)\n"
   ]
  },
  {
   "cell_type": "markdown",
   "metadata": {},
   "source": [
    "# Using asyncio to blink the LEDS and read from buttons"
   ]
  },
  {
   "cell_type": "code",
   "execution_count": null,
   "metadata": {},
   "outputs": [],
   "source": [
    "import asyncio\n",
    "cond = True\n",
    "\n",
    "async def flash_leds():\n",
    "    global cond, start\n",
    "    while cond:\n",
    "        led4.write(0x1)\n",
    "        led5.write(0x7)\n",
    "        await asyncio.sleep(0.1)\n",
    "        led4.write(0x0)\n",
    "        led5.write(0x0)\n",
    "        await asyncio.sleep(0.05)\n",
    "        led4.write(0x1)\n",
    "        led5.write(0x7)\n",
    "        await asyncio.sleep(0.1)\n",
    "        led4.write(0x0)\n",
    "        led5.write(0x0)\n",
    "        await asyncio.sleep(0.05)\n",
    "\n",
    "        led4.write(0x7)\n",
    "        led5.write(0x4)\n",
    "        await asyncio.sleep(0.1)\n",
    "        led4.write(0x0)\n",
    "        led5.write(0x0)\n",
    "        await asyncio.sleep(0.05)\n",
    "        led4.write(0x7)\n",
    "        led5.write(0x4)\n",
    "        await asyncio.sleep(0.1)\n",
    "        led4.write(0x0)\n",
    "        led5.write(0x0)\n",
    "        await asyncio.sleep(0.05)\n",
    "\n",
    "async def get_btns(_loop):\n",
    "    global cond, start\n",
    "    while cond:\n",
    "        await asyncio.sleep(0.01)\n",
    "        if btns.read() != 0:\n",
    "            _loop.stop()\n",
    "            cond = False\n",
    "\n",
    "loop = asyncio.new_event_loop()\n",
    "loop.create_task(flash_leds())\n",
    "loop.create_task(get_btns(loop))\n",
    "loop.run_forever()\n",
    "loop.close()        \n",
    "led4.write(0x0)\n",
    "led5.write(0x0)\n",
    "print(\"Done.\")"
   ]
  },
  {
   "cell_type": "markdown",
   "metadata": {},
   "source": [
    "# Lab work\n",
    "Using the code from previous cell as a template, write a code to start the blinking when button 0 is pushed and stop the blinking when button 1 is pushed."
   ]
  },
  {
   "cell_type": "code",
   "execution_count": null,
   "metadata": {},
   "outputs": [],
   "source": [
    "# write your code here.\n",
    "import asyncio\n",
    "cond = False\n",
    "\n",
    "async def flash_leds():\n",
    "    global cond\n",
    "    while True:\n",
    "        if cond:\n",
    "       \n",
    "            led4.write(0x1)\n",
    "            led5.write(0x7)\n",
    "            await asyncio.sleep(0.1)\n",
    "            led4.write(0x0)\n",
    "            led5.write(0x0)\n",
    "            await asyncio.sleep(0.05)\n",
    "\n",
    "            led4.write(0x1)\n",
    "            led5.write(0x7)\n",
    "            await asyncio.sleep(0.1)\n",
    "            led4.write(0x0)\n",
    "            led5.write(0x0)\n",
    "            await asyncio.sleep(0.05)\n",
    "\n",
    "     \n",
    "            led4.write(0x7)\n",
    "            led5.write(0x4)\n",
    "            await asyncio.sleep(0.1)\n",
    "            led4.write(0x0)\n",
    "            led5.write(0x0)\n",
    "            await asyncio.sleep(0.05)\n",
    "\n",
    "            led4.write(0x7)\n",
    "            led5.write(0x4)\n",
    "            await asyncio.sleep(0.1)\n",
    "            led4.write(0x0)\n",
    "            led5.write(0x0)\n",
    "            await asyncio.sleep(0.05)\n",
    "        else:\n",
    "            led4.write(0x0)\n",
    "            led5.write(0x0)\n",
    "            await asyncio.sleep(0.1)\n",
    "\n",
    "async def get_btns():\n",
    "    global cond\n",
    "    while True:\n",
    "        await asyncio.sleep(0.01)\n",
    "        btn_state = btns.read()\n",
    "        if btn_state == 0x1:  # Button 0 pressed\n",
    "            cond = True\n",
    "        elif btn_state == 0x2:  # Button 1 pressed\n",
    "            cond = False\n",
    "loop = asyncio.new_event_loop()\n",
    "loop.create_task(flash_leds())\n",
    "loop.create_task(get_btns())\n",
    "try:\n",
    "    loop.run_forever()\n",
    "except KeyboardInterrupt:\n",
    "    pass\n",
    "finally:\n",
    "    loop.close()\n",
    "    led4.write(0x0)\n",
    "    led5.write(0x0)\n",
    "    print(\"Done.\")"
   ]
  },
  {
   "cell_type": "code",
   "execution_count": null,
   "metadata": {},
   "outputs": [],
   "source": []
  }
 ],
 "metadata": {
  "kernelspec": {
   "display_name": "Python 3 (ipykernel)",
   "language": "python",
   "name": "python3"
  },
  "language_info": {
   "codemirror_mode": {
    "name": "ipython",
    "version": 3
   },
   "file_extension": ".py",
   "mimetype": "text/x-python",
   "name": "python",
   "nbconvert_exporter": "python",
   "pygments_lexer": "ipython3",
   "version": "3.12.7"
  }
 },
 "nbformat": 4,
 "nbformat_minor": 4
}
